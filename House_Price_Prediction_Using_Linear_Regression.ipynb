{
  "metadata": {
    "kernelspec": {
      "language": "python",
      "display_name": "Python 3",
      "name": "python3"
    },
    "language_info": {
      "name": "python",
      "version": "3.10.13",
      "mimetype": "text/x-python",
      "codemirror_mode": {
        "name": "ipython",
        "version": 3
      },
      "pygments_lexer": "ipython3",
      "nbconvert_exporter": "python",
      "file_extension": ".py"
    },
    "kaggle": {
      "accelerator": "none",
      "dataSources": [
        {
          "sourceId": 7612597,
          "sourceType": "datasetVersion",
          "datasetId": 4432988
        }
      ],
      "dockerImageVersionId": 30646,
      "isInternetEnabled": true,
      "language": "python",
      "sourceType": "notebook",
      "isGpuEnabled": false
    },
    "colab": {
      "name": "House Price Prediction Using Linear Regression",
      "provenance": []
    }
  },
  "nbformat_minor": 0,
  "nbformat": 4,
  "cells": [
    {
      "source": [
        "\n",
        "# IMPORTANT: RUN THIS CELL IN ORDER TO IMPORT YOUR KAGGLE DATA SOURCES\n",
        "# TO THE CORRECT LOCATION (/kaggle/input) IN YOUR NOTEBOOK,\n",
        "# THEN FEEL FREE TO DELETE THIS CELL.\n",
        "# NOTE: THIS NOTEBOOK ENVIRONMENT DIFFERS FROM KAGGLE'S PYTHON\n",
        "# ENVIRONMENT SO THERE MAY BE MISSING LIBRARIES USED BY YOUR\n",
        "# NOTEBOOK.\n",
        "\n",
        "import os\n",
        "import sys\n",
        "from tempfile import NamedTemporaryFile\n",
        "from urllib.request import urlopen\n",
        "from urllib.parse import unquote, urlparse\n",
        "from urllib.error import HTTPError\n",
        "from zipfile import ZipFile\n",
        "import tarfile\n",
        "import shutil\n",
        "\n",
        "CHUNK_SIZE = 40960\n",
        "DATA_SOURCE_MAPPING = 'house-price-india-dataset:https%3A%2F%2Fstorage.googleapis.com%2Fkaggle-data-sets%2F4432988%2F7612597%2Fbundle%2Farchive.zip%3FX-Goog-Algorithm%3DGOOG4-RSA-SHA256%26X-Goog-Credential%3Dgcp-kaggle-com%2540kaggle-161607.iam.gserviceaccount.com%252F20240414%252Fauto%252Fstorage%252Fgoog4_request%26X-Goog-Date%3D20240414T130527Z%26X-Goog-Expires%3D259200%26X-Goog-SignedHeaders%3Dhost%26X-Goog-Signature%3D6174ed7ae9237117fd895836ca0a7fec740527e9bb42a9763c3d87119096b1e19f6eccc74efe794bb12ab472509bc9404e4c837b219aa388ac59ff8fa7c10feddae34b3bb995c23a29cd5ae26f40537da36ab2a463b2825c72d4e05ddb9121938cae762799f3df2a2c8ac590e1308b14d619ebdd123395626bdc7a4b7329daed72f0f148c483206a10d825ff2d7bfa7332ee37380689e3974b912b44c9e59fcd0a897d71bf9c6b1ddb7c99c225b77b4101087a36a4947a64231982326bb4b3cfcad1074cf36beb5bf0dbd224f69908787ecdbdae199c9934987bce93ac07be4739abbc78e16e228eebcc61547798c5edcdd9eda768e962c080287c4585ec95ca'\n",
        "\n",
        "KAGGLE_INPUT_PATH='/kaggle/input'\n",
        "KAGGLE_WORKING_PATH='/kaggle/working'\n",
        "KAGGLE_SYMLINK='kaggle'\n",
        "\n",
        "!umount /kaggle/input/ 2> /dev/null\n",
        "shutil.rmtree('/kaggle/input', ignore_errors=True)\n",
        "os.makedirs(KAGGLE_INPUT_PATH, 0o777, exist_ok=True)\n",
        "os.makedirs(KAGGLE_WORKING_PATH, 0o777, exist_ok=True)\n",
        "\n",
        "try:\n",
        "  os.symlink(KAGGLE_INPUT_PATH, os.path.join(\"..\", 'input'), target_is_directory=True)\n",
        "except FileExistsError:\n",
        "  pass\n",
        "try:\n",
        "  os.symlink(KAGGLE_WORKING_PATH, os.path.join(\"..\", 'working'), target_is_directory=True)\n",
        "except FileExistsError:\n",
        "  pass\n",
        "\n",
        "for data_source_mapping in DATA_SOURCE_MAPPING.split(','):\n",
        "    directory, download_url_encoded = data_source_mapping.split(':')\n",
        "    download_url = unquote(download_url_encoded)\n",
        "    filename = urlparse(download_url).path\n",
        "    destination_path = os.path.join(KAGGLE_INPUT_PATH, directory)\n",
        "    try:\n",
        "        with urlopen(download_url) as fileres, NamedTemporaryFile() as tfile:\n",
        "            total_length = fileres.headers['content-length']\n",
        "            print(f'Downloading {directory}, {total_length} bytes compressed')\n",
        "            dl = 0\n",
        "            data = fileres.read(CHUNK_SIZE)\n",
        "            while len(data) > 0:\n",
        "                dl += len(data)\n",
        "                tfile.write(data)\n",
        "                done = int(50 * dl / int(total_length))\n",
        "                sys.stdout.write(f\"\\r[{'=' * done}{' ' * (50-done)}] {dl} bytes downloaded\")\n",
        "                sys.stdout.flush()\n",
        "                data = fileres.read(CHUNK_SIZE)\n",
        "            if filename.endswith('.zip'):\n",
        "              with ZipFile(tfile) as zfile:\n",
        "                zfile.extractall(destination_path)\n",
        "            else:\n",
        "              with tarfile.open(tfile.name) as tarfile:\n",
        "                tarfile.extractall(destination_path)\n",
        "            print(f'\\nDownloaded and uncompressed: {directory}')\n",
        "    except HTTPError as e:\n",
        "        print(f'Failed to load (likely expired) {download_url} to path {destination_path}')\n",
        "        continue\n",
        "    except OSError as e:\n",
        "        print(f'Failed to load {download_url} to path {destination_path}')\n",
        "        continue\n",
        "\n",
        "print('Data source import complete.')\n"
      ],
      "metadata": {
        "id": "VcYI7Kxptrto"
      },
      "cell_type": "code",
      "outputs": [],
      "execution_count": null
    },
    {
      "cell_type": "code",
      "source": [
        "# This Python 3 environment comes with many helpful analytics libraries installed\n",
        "# It is defined by the kaggle/python Docker image: https://github.com/kaggle/docker-python\n",
        "# For example, here's several helpful packages to load\n",
        "\n",
        "import numpy as np # linear algebra\n",
        "import pandas as pd # data processing, CSV file I/O (e.g. pd.read_csv)\n",
        "\n",
        "# Input data files are available in the read-only \"../input/\" directory\n",
        "# For example, running this (by clicking run or pressing Shift+Enter) will list all files under the input directory\n",
        "\n",
        "import os\n",
        "for dirname, _, filenames in os.walk('/kaggle/input'):\n",
        "    for filename in filenames:\n",
        "        print(os.path.join(dirname, filename))\n",
        "\n",
        "# You can write up to 20GB to the current directory (/kaggle/working/) that gets preserved as output when you create a version using \"Save & Run All\"\n",
        "# You can also write temporary files to /kaggle/temp/, but they won't be saved outside of the current session"
      ],
      "metadata": {
        "_uuid": "8f2839f25d086af736a60e9eeb907d3b93b6e0e5",
        "_cell_guid": "b1076dfc-b9ad-4769-8c92-a6c4dae69d19",
        "execution": {
          "iopub.status.busy": "2024-03-06T07:28:40.035692Z",
          "iopub.execute_input": "2024-03-06T07:28:40.036214Z",
          "iopub.status.idle": "2024-03-06T07:28:41.333156Z",
          "shell.execute_reply.started": "2024-03-06T07:28:40.036167Z",
          "shell.execute_reply": "2024-03-06T07:28:41.332011Z"
        },
        "trusted": true,
        "id": "IR68KvkDtrtz"
      },
      "execution_count": null,
      "outputs": []
    },
    {
      "cell_type": "code",
      "source": [
        "import numpy as np\n",
        "import pandas as pd\n",
        "import matplotlib.pyplot as plt\n",
        "import seaborn as sns\n",
        "\n",
        "# importing necessary libraries\n",
        "import warnings\n",
        "warnings.filterwarnings(\"ignore\")\n",
        "# ignoring the warnings"
      ],
      "metadata": {
        "execution": {
          "iopub.status.busy": "2024-03-06T07:28:41.335274Z",
          "iopub.execute_input": "2024-03-06T07:28:41.335914Z",
          "iopub.status.idle": "2024-03-06T07:28:43.151628Z",
          "shell.execute_reply.started": "2024-03-06T07:28:41.335874Z",
          "shell.execute_reply": "2024-03-06T07:28:43.150232Z"
        },
        "trusted": true,
        "id": "-K6UV-Hvtrt1"
      },
      "execution_count": null,
      "outputs": []
    },
    {
      "cell_type": "code",
      "source": [
        "df = pd.read_csv('/kaggle/input/house-price-india-dataset/House Price India.csv')\n",
        "# importing the dataset and saving it in df dataframe\n",
        "df"
      ],
      "metadata": {
        "execution": {
          "iopub.status.busy": "2024-03-06T07:28:43.155117Z",
          "iopub.execute_input": "2024-03-06T07:28:43.1556Z",
          "iopub.status.idle": "2024-03-06T07:28:43.314426Z",
          "shell.execute_reply.started": "2024-03-06T07:28:43.155562Z",
          "shell.execute_reply": "2024-03-06T07:28:43.313088Z"
        },
        "trusted": true,
        "id": "GL8BuW-Ftrt1"
      },
      "execution_count": null,
      "outputs": []
    },
    {
      "cell_type": "code",
      "source": [
        "df.info()\n",
        "# getting the info of the dataset\n",
        "# getting type of column and non-null value counts"
      ],
      "metadata": {
        "execution": {
          "iopub.status.busy": "2024-03-06T07:28:43.317187Z",
          "iopub.execute_input": "2024-03-06T07:28:43.317859Z",
          "iopub.status.idle": "2024-03-06T07:28:43.351768Z",
          "shell.execute_reply.started": "2024-03-06T07:28:43.317824Z",
          "shell.execute_reply": "2024-03-06T07:28:43.350046Z"
        },
        "trusted": true,
        "id": "52TRJ0uFtrt2"
      },
      "execution_count": null,
      "outputs": []
    },
    {
      "cell_type": "code",
      "source": [
        "df.describe()\n",
        "# getting count, mean and standard deviation of each column"
      ],
      "metadata": {
        "execution": {
          "iopub.status.busy": "2024-03-06T07:28:43.35344Z",
          "iopub.execute_input": "2024-03-06T07:28:43.353856Z",
          "iopub.status.idle": "2024-03-06T07:28:43.4576Z",
          "shell.execute_reply.started": "2024-03-06T07:28:43.353822Z",
          "shell.execute_reply": "2024-03-06T07:28:43.456375Z"
        },
        "trusted": true,
        "id": "dP27BY8htrt3"
      },
      "execution_count": null,
      "outputs": []
    },
    {
      "cell_type": "code",
      "source": [
        "df.corr()\n"
      ],
      "metadata": {
        "execution": {
          "iopub.status.busy": "2024-03-06T07:28:43.459575Z",
          "iopub.execute_input": "2024-03-06T07:28:43.460356Z",
          "iopub.status.idle": "2024-03-06T07:28:43.5373Z",
          "shell.execute_reply.started": "2024-03-06T07:28:43.460314Z",
          "shell.execute_reply": "2024-03-06T07:28:43.536035Z"
        },
        "trusted": true,
        "id": "hsmZ0l6Qtrt4"
      },
      "execution_count": null,
      "outputs": []
    },
    {
      "cell_type": "code",
      "source": [
        "df.columns\n",
        "# getting the columns list in the dataset"
      ],
      "metadata": {
        "execution": {
          "iopub.status.busy": "2024-03-06T07:28:43.539262Z",
          "iopub.execute_input": "2024-03-06T07:28:43.540067Z",
          "iopub.status.idle": "2024-03-06T07:28:43.550037Z",
          "shell.execute_reply.started": "2024-03-06T07:28:43.54002Z",
          "shell.execute_reply": "2024-03-06T07:28:43.549037Z"
        },
        "trusted": true,
        "id": "8kNBDQ3Ltrt5"
      },
      "execution_count": null,
      "outputs": []
    },
    {
      "cell_type": "markdown",
      "source": [
        "# DATA VISUALIZATION\n"
      ],
      "metadata": {
        "id": "zuvjR5LKtrt6"
      }
    },
    {
      "cell_type": "code",
      "source": [
        "plt.figure(figsize=(17,12),dpi=200)\n",
        "sns.heatmap(df.corr(),annot=True);\n",
        "\n",
        "# creating a heatmap to see the distribution"
      ],
      "metadata": {
        "execution": {
          "iopub.status.busy": "2024-03-06T07:28:43.552167Z",
          "iopub.execute_input": "2024-03-06T07:28:43.553436Z",
          "iopub.status.idle": "2024-03-06T07:28:47.010562Z",
          "shell.execute_reply.started": "2024-03-06T07:28:43.553358Z",
          "shell.execute_reply": "2024-03-06T07:28:47.008616Z"
        },
        "trusted": true,
        "id": "T3TZPC34trt9"
      },
      "execution_count": null,
      "outputs": []
    },
    {
      "cell_type": "code",
      "source": [
        "sns.scatterplot(data=df,x='Built Year',y='Renovation Year')\n",
        "# visualizing the built year vs renovation year of the house"
      ],
      "metadata": {
        "execution": {
          "iopub.status.busy": "2024-03-06T07:28:47.012568Z",
          "iopub.execute_input": "2024-03-06T07:28:47.014018Z",
          "iopub.status.idle": "2024-03-06T07:28:47.445333Z",
          "shell.execute_reply.started": "2024-03-06T07:28:47.013956Z",
          "shell.execute_reply": "2024-03-06T07:28:47.443977Z"
        },
        "trusted": true,
        "id": "TnoSxB0itrt-"
      },
      "execution_count": null,
      "outputs": []
    },
    {
      "cell_type": "code",
      "source": [
        "sns.countplot(data=df,x='number of bedrooms')\n"
      ],
      "metadata": {
        "execution": {
          "iopub.status.busy": "2024-03-06T07:28:47.450491Z",
          "iopub.execute_input": "2024-03-06T07:28:47.450994Z",
          "iopub.status.idle": "2024-03-06T07:28:47.730953Z",
          "shell.execute_reply.started": "2024-03-06T07:28:47.450957Z",
          "shell.execute_reply": "2024-03-06T07:28:47.729222Z"
        },
        "trusted": true,
        "id": "S_WGruC2trt-"
      },
      "execution_count": null,
      "outputs": []
    },
    {
      "cell_type": "code",
      "source": [
        "sns.barplot(data=df,x='Price')"
      ],
      "metadata": {
        "execution": {
          "iopub.status.busy": "2024-03-06T07:28:47.732562Z",
          "iopub.execute_input": "2024-03-06T07:28:47.732904Z",
          "iopub.status.idle": "2024-03-06T07:28:48.052408Z",
          "shell.execute_reply.started": "2024-03-06T07:28:47.732875Z",
          "shell.execute_reply": "2024-03-06T07:28:48.051494Z"
        },
        "trusted": true,
        "id": "KPZV6O7gtrt_"
      },
      "execution_count": null,
      "outputs": []
    },
    {
      "cell_type": "code",
      "source": [
        "sns.scatterplot(data=df,x='number of bedrooms',y='lot area',hue='Price')"
      ],
      "metadata": {
        "execution": {
          "iopub.status.busy": "2024-03-06T07:28:48.053715Z",
          "iopub.execute_input": "2024-03-06T07:28:48.054399Z",
          "iopub.status.idle": "2024-03-06T07:28:49.86029Z",
          "shell.execute_reply.started": "2024-03-06T07:28:48.054367Z",
          "shell.execute_reply": "2024-03-06T07:28:49.859156Z"
        },
        "trusted": true,
        "id": "gOctWIPctrt_"
      },
      "execution_count": null,
      "outputs": []
    },
    {
      "cell_type": "markdown",
      "source": [
        "## DATA PREPROCESSING AND REGULARIZATION"
      ],
      "metadata": {
        "id": "ANoftFTTtrt_"
      }
    },
    {
      "cell_type": "code",
      "source": [
        "# checking null values\n",
        "df.isnull().sum()\n",
        "# there is no null values"
      ],
      "metadata": {
        "execution": {
          "iopub.status.busy": "2024-03-06T07:28:49.861601Z",
          "iopub.execute_input": "2024-03-06T07:28:49.862496Z",
          "iopub.status.idle": "2024-03-06T07:28:49.884871Z",
          "shell.execute_reply.started": "2024-03-06T07:28:49.862444Z",
          "shell.execute_reply": "2024-03-06T07:28:49.883453Z"
        },
        "trusted": true,
        "id": "K9Qy4SFctrt_"
      },
      "execution_count": null,
      "outputs": []
    },
    {
      "cell_type": "code",
      "source": [
        "df['number of bathrooms']"
      ],
      "metadata": {
        "execution": {
          "iopub.status.busy": "2024-03-06T07:28:49.886134Z",
          "iopub.execute_input": "2024-03-06T07:28:49.886487Z",
          "iopub.status.idle": "2024-03-06T07:28:49.901882Z",
          "shell.execute_reply.started": "2024-03-06T07:28:49.886459Z",
          "shell.execute_reply": "2024-03-06T07:28:49.900524Z"
        },
        "trusted": true,
        "id": "8g6xE1v0truA"
      },
      "execution_count": null,
      "outputs": []
    },
    {
      "cell_type": "code",
      "source": [
        "\n",
        "df.rename(columns = {'number of bathrooms':'no_of_bathrooms'}, inplace = True)"
      ],
      "metadata": {
        "execution": {
          "iopub.status.busy": "2024-03-06T07:28:49.90375Z",
          "iopub.execute_input": "2024-03-06T07:28:49.904192Z",
          "iopub.status.idle": "2024-03-06T07:28:49.91147Z",
          "shell.execute_reply.started": "2024-03-06T07:28:49.90416Z",
          "shell.execute_reply": "2024-03-06T07:28:49.909691Z"
        },
        "trusted": true,
        "id": "1xrUDoeftruA"
      },
      "execution_count": null,
      "outputs": []
    },
    {
      "cell_type": "code",
      "source": [
        "# rounding off the values of number of bathrooms to next place\n",
        "df.no_of_bathrooms = df.no_of_bathrooms.round()"
      ],
      "metadata": {
        "execution": {
          "iopub.status.busy": "2024-03-06T07:28:49.913128Z",
          "iopub.execute_input": "2024-03-06T07:28:49.913925Z",
          "iopub.status.idle": "2024-03-06T07:28:49.924448Z",
          "shell.execute_reply.started": "2024-03-06T07:28:49.913891Z",
          "shell.execute_reply": "2024-03-06T07:28:49.922975Z"
        },
        "trusted": true,
        "id": "ZKdxeHrZtruA"
      },
      "execution_count": null,
      "outputs": []
    },
    {
      "cell_type": "code",
      "source": [
        "df['no_of_bathrooms']\n",
        "# the values are rounded off"
      ],
      "metadata": {
        "execution": {
          "iopub.status.busy": "2024-03-06T07:28:49.92592Z",
          "iopub.execute_input": "2024-03-06T07:28:49.926342Z",
          "iopub.status.idle": "2024-03-06T07:28:49.942339Z",
          "shell.execute_reply.started": "2024-03-06T07:28:49.926311Z",
          "shell.execute_reply": "2024-03-06T07:28:49.940745Z"
        },
        "trusted": true,
        "id": "iQD_e4kwtruA"
      },
      "execution_count": null,
      "outputs": []
    },
    {
      "cell_type": "code",
      "source": [
        "# we will use a countplot to visualize it\n",
        "sns.countplot(data=df,x='no_of_bathrooms')"
      ],
      "metadata": {
        "execution": {
          "iopub.status.busy": "2024-03-06T07:28:49.944307Z",
          "iopub.execute_input": "2024-03-06T07:28:49.945382Z",
          "iopub.status.idle": "2024-03-06T07:28:50.208583Z",
          "shell.execute_reply.started": "2024-03-06T07:28:49.945339Z",
          "shell.execute_reply": "2024-03-06T07:28:50.207735Z"
        },
        "trusted": true,
        "id": "oQua9W-qtruB"
      },
      "execution_count": null,
      "outputs": []
    },
    {
      "cell_type": "code",
      "source": [
        "# We don't need id and date present in the dataset\n",
        "df.drop(['id','Date'],axis=1,inplace=True)"
      ],
      "metadata": {
        "execution": {
          "iopub.status.busy": "2024-03-06T07:28:50.209797Z",
          "iopub.execute_input": "2024-03-06T07:28:50.210703Z",
          "iopub.status.idle": "2024-03-06T07:28:50.218667Z",
          "shell.execute_reply.started": "2024-03-06T07:28:50.210672Z",
          "shell.execute_reply": "2024-03-06T07:28:50.216995Z"
        },
        "trusted": true,
        "id": "ELjpSxmctruB"
      },
      "execution_count": null,
      "outputs": []
    },
    {
      "cell_type": "code",
      "source": [
        "df"
      ],
      "metadata": {
        "execution": {
          "iopub.status.busy": "2024-03-06T07:28:50.220297Z",
          "iopub.execute_input": "2024-03-06T07:28:50.220647Z",
          "iopub.status.idle": "2024-03-06T07:28:50.257472Z",
          "shell.execute_reply.started": "2024-03-06T07:28:50.220617Z",
          "shell.execute_reply": "2024-03-06T07:28:50.256193Z"
        },
        "trusted": true,
        "id": "hqt0e4LotruC"
      },
      "execution_count": null,
      "outputs": []
    },
    {
      "cell_type": "code",
      "source": [
        "# labelling X and y values\n",
        "X = df.drop('Price',axis=1)\n",
        "y = df['Price']"
      ],
      "metadata": {
        "execution": {
          "iopub.status.busy": "2024-03-06T07:28:50.259009Z",
          "iopub.execute_input": "2024-03-06T07:28:50.259355Z",
          "iopub.status.idle": "2024-03-06T07:28:50.26589Z",
          "shell.execute_reply.started": "2024-03-06T07:28:50.259326Z",
          "shell.execute_reply": "2024-03-06T07:28:50.26483Z"
        },
        "trusted": true,
        "id": "3_rfeeFmtruC"
      },
      "execution_count": null,
      "outputs": []
    },
    {
      "cell_type": "code",
      "source": [
        "# splitting the Dataset to train and test data\n",
        "from sklearn.model_selection import train_test_split"
      ],
      "metadata": {
        "execution": {
          "iopub.status.busy": "2024-03-06T07:28:50.267683Z",
          "iopub.execute_input": "2024-03-06T07:28:50.269Z",
          "iopub.status.idle": "2024-03-06T07:28:50.508637Z",
          "shell.execute_reply.started": "2024-03-06T07:28:50.268949Z",
          "shell.execute_reply": "2024-03-06T07:28:50.507167Z"
        },
        "trusted": true,
        "id": "RWRNlHKPtruC"
      },
      "execution_count": null,
      "outputs": []
    },
    {
      "cell_type": "code",
      "source": [
        "X_train, X_test, y_train, y_test = train_test_split(\n",
        "...     X, y, test_size=0.30, random_state=101)\n",
        "# splitting in 70 to 30 percent dataset"
      ],
      "metadata": {
        "execution": {
          "iopub.status.busy": "2024-03-06T07:28:50.51109Z",
          "iopub.execute_input": "2024-03-06T07:28:50.511524Z",
          "iopub.status.idle": "2024-03-06T07:28:50.526376Z",
          "shell.execute_reply.started": "2024-03-06T07:28:50.511492Z",
          "shell.execute_reply": "2024-03-06T07:28:50.525276Z"
        },
        "trusted": true,
        "id": "dPS_nASXtruD"
      },
      "execution_count": null,
      "outputs": []
    },
    {
      "cell_type": "code",
      "source": [
        "# standardizing the data\n",
        "# importing standardscaler for regularization\n",
        "\n",
        "from sklearn.preprocessing import StandardScaler\n",
        "# creating scaler instance\n",
        "scaler = StandardScaler()"
      ],
      "metadata": {
        "execution": {
          "iopub.status.busy": "2024-03-06T07:28:50.527976Z",
          "iopub.execute_input": "2024-03-06T07:28:50.528859Z",
          "iopub.status.idle": "2024-03-06T07:28:50.536632Z",
          "shell.execute_reply.started": "2024-03-06T07:28:50.528823Z",
          "shell.execute_reply": "2024-03-06T07:28:50.5348Z"
        },
        "trusted": true,
        "id": "WcmilwGMtruD"
      },
      "execution_count": null,
      "outputs": []
    },
    {
      "cell_type": "code",
      "source": [
        "scaler.fit(X_train)\n",
        "X_train = scaler.transform(X_train)\n",
        "X_test = scaler.transform(X_test)"
      ],
      "metadata": {
        "execution": {
          "iopub.status.busy": "2024-03-06T07:28:50.538797Z",
          "iopub.execute_input": "2024-03-06T07:28:50.539313Z",
          "iopub.status.idle": "2024-03-06T07:28:50.566983Z",
          "shell.execute_reply.started": "2024-03-06T07:28:50.539279Z",
          "shell.execute_reply": "2024-03-06T07:28:50.565513Z"
        },
        "trusted": true,
        "id": "r5Bg7q8AtruD"
      },
      "execution_count": null,
      "outputs": []
    },
    {
      "cell_type": "markdown",
      "source": [
        "## Model Creation and Evaluation"
      ],
      "metadata": {
        "id": "qx2tRW39truD"
      }
    },
    {
      "cell_type": "code",
      "source": [
        "# Creating a linear Regression model\n",
        "from sklearn.linear_model import LinearRegression"
      ],
      "metadata": {
        "execution": {
          "iopub.status.busy": "2024-03-06T07:28:50.568978Z",
          "iopub.execute_input": "2024-03-06T07:28:50.569388Z",
          "iopub.status.idle": "2024-03-06T07:28:50.691413Z",
          "shell.execute_reply.started": "2024-03-06T07:28:50.569356Z",
          "shell.execute_reply": "2024-03-06T07:28:50.690057Z"
        },
        "trusted": true,
        "id": "ZLqhrlE3truE"
      },
      "execution_count": null,
      "outputs": []
    },
    {
      "cell_type": "code",
      "source": [
        "model = LinearRegression()"
      ],
      "metadata": {
        "execution": {
          "iopub.status.busy": "2024-03-06T07:28:50.693709Z",
          "iopub.execute_input": "2024-03-06T07:28:50.694562Z",
          "iopub.status.idle": "2024-03-06T07:28:50.69967Z",
          "shell.execute_reply.started": "2024-03-06T07:28:50.694523Z",
          "shell.execute_reply": "2024-03-06T07:28:50.69829Z"
        },
        "trusted": true,
        "id": "HJ1TtY7BtruE"
      },
      "execution_count": null,
      "outputs": []
    },
    {
      "cell_type": "code",
      "source": [
        "# fitting X_train and y_train to the model\n",
        "model.fit(X_train,y_train)"
      ],
      "metadata": {
        "execution": {
          "iopub.status.busy": "2024-03-06T07:28:50.708878Z",
          "iopub.execute_input": "2024-03-06T07:28:50.709735Z",
          "iopub.status.idle": "2024-03-06T07:28:50.762122Z",
          "shell.execute_reply.started": "2024-03-06T07:28:50.709697Z",
          "shell.execute_reply": "2024-03-06T07:28:50.760312Z"
        },
        "trusted": true,
        "id": "395X1_cvtruE"
      },
      "execution_count": null,
      "outputs": []
    },
    {
      "cell_type": "code",
      "source": [
        "# getting the prediciton\n",
        "y_pred = model.predict(X_test)"
      ],
      "metadata": {
        "execution": {
          "iopub.status.busy": "2024-03-06T07:28:50.765148Z",
          "iopub.execute_input": "2024-03-06T07:28:50.766449Z",
          "iopub.status.idle": "2024-03-06T07:28:50.778915Z",
          "shell.execute_reply.started": "2024-03-06T07:28:50.766377Z",
          "shell.execute_reply": "2024-03-06T07:28:50.776851Z"
        },
        "trusted": true,
        "id": "RAAd3fNRtruF"
      },
      "execution_count": null,
      "outputs": []
    },
    {
      "cell_type": "code",
      "source": [
        "y_pred"
      ],
      "metadata": {
        "execution": {
          "iopub.status.busy": "2024-03-06T07:28:50.782291Z",
          "iopub.execute_input": "2024-03-06T07:28:50.783957Z",
          "iopub.status.idle": "2024-03-06T07:28:50.801127Z",
          "shell.execute_reply.started": "2024-03-06T07:28:50.783864Z",
          "shell.execute_reply": "2024-03-06T07:28:50.798644Z"
        },
        "trusted": true,
        "id": "GolT9HZFtruF"
      },
      "execution_count": null,
      "outputs": []
    },
    {
      "cell_type": "code",
      "source": [
        "# evaluating the model\n",
        "from sklearn.metrics import mean_absolute_error, mean_squared_error"
      ],
      "metadata": {
        "execution": {
          "iopub.status.busy": "2024-03-06T07:28:50.804275Z",
          "iopub.execute_input": "2024-03-06T07:28:50.807211Z",
          "iopub.status.idle": "2024-03-06T07:28:50.818034Z",
          "shell.execute_reply.started": "2024-03-06T07:28:50.807125Z",
          "shell.execute_reply": "2024-03-06T07:28:50.815657Z"
        },
        "trusted": true,
        "id": "UUOnn7fgtruF"
      },
      "execution_count": null,
      "outputs": []
    },
    {
      "cell_type": "code",
      "source": [
        "# getting mean absolute error\n",
        "mae = mean_absolute_error(y_test,y_pred)\n",
        "mae"
      ],
      "metadata": {
        "execution": {
          "iopub.status.busy": "2024-03-06T07:28:50.821882Z",
          "iopub.execute_input": "2024-03-06T07:28:50.8241Z",
          "iopub.status.idle": "2024-03-06T07:28:50.843708Z",
          "shell.execute_reply.started": "2024-03-06T07:28:50.824027Z",
          "shell.execute_reply": "2024-03-06T07:28:50.842009Z"
        },
        "trusted": true,
        "id": "26vEWEm1truG"
      },
      "execution_count": null,
      "outputs": []
    },
    {
      "cell_type": "code",
      "source": [
        "rmse = np.sqrt(mean_squared_error(y_test,y_pred))\n",
        "#getting root mean squared error\n",
        "rmse"
      ],
      "metadata": {
        "execution": {
          "iopub.status.busy": "2024-03-06T07:28:50.84646Z",
          "iopub.execute_input": "2024-03-06T07:28:50.849096Z",
          "iopub.status.idle": "2024-03-06T07:28:50.870254Z",
          "shell.execute_reply.started": "2024-03-06T07:28:50.849027Z",
          "shell.execute_reply": "2024-03-06T07:28:50.868448Z"
        },
        "trusted": true,
        "id": "H6aigbYjtruG"
      },
      "execution_count": null,
      "outputs": []
    },
    {
      "cell_type": "markdown",
      "source": [
        "## Creating Elasticnet model and evaluating the model"
      ],
      "metadata": {
        "id": "g7kDYqfxtruH"
      }
    },
    {
      "cell_type": "code",
      "source": [
        "# importing elastic net\n",
        "from sklearn.linear_model import ElasticNet\n",
        "el_model = ElasticNet()"
      ],
      "metadata": {
        "execution": {
          "iopub.status.busy": "2024-03-06T07:28:50.883587Z",
          "iopub.execute_input": "2024-03-06T07:28:50.88587Z",
          "iopub.status.idle": "2024-03-06T07:28:50.893939Z",
          "shell.execute_reply.started": "2024-03-06T07:28:50.885785Z",
          "shell.execute_reply": "2024-03-06T07:28:50.892156Z"
        },
        "trusted": true,
        "id": "6FBeMso-truH"
      },
      "execution_count": null,
      "outputs": []
    },
    {
      "cell_type": "code",
      "source": [
        "para = {'alpha':[0.1,1,5,10,100],'l1_ratio':[.1,.5,.7,.95,.99,1]}"
      ],
      "metadata": {
        "execution": {
          "iopub.status.busy": "2024-03-06T07:28:50.8961Z",
          "iopub.execute_input": "2024-03-06T07:28:50.898278Z",
          "iopub.status.idle": "2024-03-06T07:28:50.907245Z",
          "shell.execute_reply.started": "2024-03-06T07:28:50.89822Z",
          "shell.execute_reply": "2024-03-06T07:28:50.905358Z"
        },
        "trusted": true,
        "id": "FvEojpgItruU"
      },
      "execution_count": null,
      "outputs": []
    },
    {
      "cell_type": "code",
      "source": [
        "# using grid search to get the best hyperparameters for our model\n",
        "from sklearn.model_selection import GridSearchCV"
      ],
      "metadata": {
        "execution": {
          "iopub.status.busy": "2024-03-06T07:28:50.91036Z",
          "iopub.execute_input": "2024-03-06T07:28:50.912387Z",
          "iopub.status.idle": "2024-03-06T07:28:50.919067Z",
          "shell.execute_reply.started": "2024-03-06T07:28:50.91233Z",
          "shell.execute_reply": "2024-03-06T07:28:50.917565Z"
        },
        "trusted": true,
        "id": "fHV_5nqZtruV"
      },
      "execution_count": null,
      "outputs": []
    },
    {
      "cell_type": "code",
      "source": [
        "grid_model = GridSearchCV(estimator=el_model,param_grid=para,\n",
        "                         scoring='neg_mean_absolute_error',\n",
        "                         cv = 5,verbose =1)"
      ],
      "metadata": {
        "execution": {
          "iopub.status.busy": "2024-03-06T07:28:50.921762Z",
          "iopub.execute_input": "2024-03-06T07:28:50.923573Z",
          "iopub.status.idle": "2024-03-06T07:28:50.935883Z",
          "shell.execute_reply.started": "2024-03-06T07:28:50.923518Z",
          "shell.execute_reply": "2024-03-06T07:28:50.933598Z"
        },
        "trusted": true,
        "id": "D0EP93KbtruV"
      },
      "execution_count": null,
      "outputs": []
    },
    {
      "cell_type": "code",
      "source": [
        "# fitting the grid model to find best parameter\n",
        "grid_model.fit(X_train,y_train)"
      ],
      "metadata": {
        "execution": {
          "iopub.status.busy": "2024-03-06T07:28:50.938533Z",
          "iopub.execute_input": "2024-03-06T07:28:50.939263Z",
          "iopub.status.idle": "2024-03-06T07:29:07.83928Z",
          "shell.execute_reply.started": "2024-03-06T07:28:50.939214Z",
          "shell.execute_reply": "2024-03-06T07:29:07.837848Z"
        },
        "trusted": true,
        "id": "rOZwPM5Stru0"
      },
      "execution_count": null,
      "outputs": []
    },
    {
      "cell_type": "code",
      "source": [
        "grid_model.best_params_\n",
        "# getting the best hyperparameters"
      ],
      "metadata": {
        "execution": {
          "iopub.status.busy": "2024-03-06T07:29:07.841556Z",
          "iopub.execute_input": "2024-03-06T07:29:07.842527Z",
          "iopub.status.idle": "2024-03-06T07:29:07.856119Z",
          "shell.execute_reply.started": "2024-03-06T07:29:07.842472Z",
          "shell.execute_reply": "2024-03-06T07:29:07.854427Z"
        },
        "trusted": true,
        "id": "7D5u74O4tru1"
      },
      "execution_count": null,
      "outputs": []
    },
    {
      "cell_type": "code",
      "source": [
        "y_new_pred = grid_model.predict(X_test)"
      ],
      "metadata": {
        "execution": {
          "iopub.status.busy": "2024-03-06T07:29:07.859075Z",
          "iopub.execute_input": "2024-03-06T07:29:07.861219Z",
          "iopub.status.idle": "2024-03-06T07:29:07.875544Z",
          "shell.execute_reply.started": "2024-03-06T07:29:07.86116Z",
          "shell.execute_reply": "2024-03-06T07:29:07.874127Z"
        },
        "trusted": true,
        "id": "jE7BduAPtru1"
      },
      "execution_count": null,
      "outputs": []
    },
    {
      "cell_type": "code",
      "source": [
        "# calculating the mean absolute error\n",
        "mae = mean_absolute_error(y_test,y_new_pred)\n",
        "mae"
      ],
      "metadata": {
        "execution": {
          "iopub.status.busy": "2024-03-06T07:29:07.877903Z",
          "iopub.execute_input": "2024-03-06T07:29:07.879045Z",
          "iopub.status.idle": "2024-03-06T07:29:07.90012Z",
          "shell.execute_reply.started": "2024-03-06T07:29:07.87899Z",
          "shell.execute_reply": "2024-03-06T07:29:07.897958Z"
        },
        "trusted": true,
        "id": "HJ91pylotru2"
      },
      "execution_count": null,
      "outputs": []
    },
    {
      "cell_type": "code",
      "source": [
        "# calculating the root mean squared error\n",
        "rmse = np.sqrt(mean_squared_error(y_test,y_new_pred))\n",
        "rmse"
      ],
      "metadata": {
        "execution": {
          "iopub.status.busy": "2024-03-06T07:29:07.903256Z",
          "iopub.execute_input": "2024-03-06T07:29:07.905345Z",
          "iopub.status.idle": "2024-03-06T07:29:07.925145Z",
          "shell.execute_reply.started": "2024-03-06T07:29:07.90529Z",
          "shell.execute_reply": "2024-03-06T07:29:07.923606Z"
        },
        "trusted": true,
        "id": "X3z8Ertttru2"
      },
      "execution_count": null,
      "outputs": []
    },
    {
      "cell_type": "code",
      "source": [
        "# getting the model score for linear Regression\n",
        "model.score(X_test,y_test)"
      ],
      "metadata": {
        "execution": {
          "iopub.status.busy": "2024-03-06T07:29:07.927285Z",
          "iopub.execute_input": "2024-03-06T07:29:07.928198Z",
          "iopub.status.idle": "2024-03-06T07:29:07.941189Z",
          "shell.execute_reply.started": "2024-03-06T07:29:07.928146Z",
          "shell.execute_reply": "2024-03-06T07:29:07.939446Z"
        },
        "trusted": true,
        "id": "nGnbRtpntru2"
      },
      "execution_count": null,
      "outputs": []
    },
    {
      "cell_type": "code",
      "source": [
        "# Creating Elastic model with best hyperparameters\n",
        "# hyperparameters were choosed by using Grid Search\n",
        "el_model =ElasticNet(alpha=1,l1_ratio=0.7)"
      ],
      "metadata": {
        "execution": {
          "iopub.status.busy": "2024-03-06T07:29:07.943323Z",
          "iopub.execute_input": "2024-03-06T07:29:07.944217Z",
          "iopub.status.idle": "2024-03-06T07:29:07.95472Z",
          "shell.execute_reply.started": "2024-03-06T07:29:07.944167Z",
          "shell.execute_reply": "2024-03-06T07:29:07.952509Z"
        },
        "trusted": true,
        "id": "vrPj56H9tru3"
      },
      "execution_count": null,
      "outputs": []
    },
    {
      "cell_type": "code",
      "source": [
        "el_model.fit(X_train,y_train)"
      ],
      "metadata": {
        "execution": {
          "iopub.status.busy": "2024-03-06T07:29:07.958165Z",
          "iopub.execute_input": "2024-03-06T07:29:07.959446Z",
          "iopub.status.idle": "2024-03-06T07:29:08.015537Z",
          "shell.execute_reply.started": "2024-03-06T07:29:07.959375Z",
          "shell.execute_reply": "2024-03-06T07:29:08.014113Z"
        },
        "trusted": true,
        "id": "Wm_t1c2ztru3"
      },
      "execution_count": null,
      "outputs": []
    },
    {
      "cell_type": "code",
      "source": [
        "pred = el_model.predict(X_test)\n",
        "# predicting the model"
      ],
      "metadata": {
        "execution": {
          "iopub.status.busy": "2024-03-06T07:29:08.017693Z",
          "iopub.execute_input": "2024-03-06T07:29:08.01864Z",
          "iopub.status.idle": "2024-03-06T07:29:08.030299Z",
          "shell.execute_reply.started": "2024-03-06T07:29:08.018587Z",
          "shell.execute_reply": "2024-03-06T07:29:08.02787Z"
        },
        "trusted": true,
        "id": "0Rmp4gW1tru4"
      },
      "execution_count": null,
      "outputs": []
    },
    {
      "cell_type": "code",
      "source": [
        "mae = mean_absolute_error(y_test,pred)\n",
        "mae\n",
        "# getting the mean absolute error"
      ],
      "metadata": {
        "execution": {
          "iopub.status.busy": "2024-03-06T07:29:08.034965Z",
          "iopub.execute_input": "2024-03-06T07:29:08.036657Z",
          "iopub.status.idle": "2024-03-06T07:29:08.055845Z",
          "shell.execute_reply.started": "2024-03-06T07:29:08.036594Z",
          "shell.execute_reply": "2024-03-06T07:29:08.054336Z"
        },
        "trusted": true,
        "id": "bvBZA3sStru4"
      },
      "execution_count": null,
      "outputs": []
    },
    {
      "cell_type": "code",
      "source": [
        "rmse = np.sqrt(mean_squared_error(y_test,pred))\n",
        "rmse\n",
        "# getting root mean squared error"
      ],
      "metadata": {
        "execution": {
          "iopub.status.busy": "2024-03-06T07:29:08.058153Z",
          "iopub.execute_input": "2024-03-06T07:29:08.059164Z",
          "iopub.status.idle": "2024-03-06T07:29:08.079814Z",
          "shell.execute_reply.started": "2024-03-06T07:29:08.059108Z",
          "shell.execute_reply": "2024-03-06T07:29:08.077207Z"
        },
        "trusted": true,
        "id": "goVJMBqxtru5"
      },
      "execution_count": null,
      "outputs": []
    },
    {
      "cell_type": "code",
      "source": [
        "el_model.score(X_test,y_test)\n",
        "# getting the model score for the elastic model"
      ],
      "metadata": {
        "execution": {
          "iopub.status.busy": "2024-03-06T07:29:08.083062Z",
          "iopub.execute_input": "2024-03-06T07:29:08.084033Z",
          "iopub.status.idle": "2024-03-06T07:29:08.09789Z",
          "shell.execute_reply.started": "2024-03-06T07:29:08.083977Z",
          "shell.execute_reply": "2024-03-06T07:29:08.096087Z"
        },
        "trusted": true,
        "id": "rO6AFoQLtru6"
      },
      "execution_count": null,
      "outputs": []
    },
    {
      "cell_type": "code",
      "source": [],
      "metadata": {
        "id": "OjDdtmrXtru7"
      },
      "execution_count": null,
      "outputs": []
    }
  ]
}